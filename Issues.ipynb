{
 "cells": [
  {
   "cell_type": "code",
   "execution_count": 20,
   "metadata": {},
   "outputs": [],
   "source": [
    "from structuralcodes.codes.ec2_2004 import __materials__\n",
    "from structuralcodes.materials.concrete import ConcreteEC2_2004,ConcreteEC2_2023\n",
    "from structuralcodes.materials.reinforcement import ReinforcementEC2_2023,ReinforcementEC2_2004\n",
    "from shapely import Polygon\n",
    "from structuralcodes import codes, materials\n",
    "from structuralcodes.geometry import SurfaceGeometry,CompoundGeometry,Geometry\n",
    "from structuralcodes.sections._reinforcement import (\n",
    "    add_reinforcement,\n",
    "    add_reinforcement_line,\n",
    ")\n",
    "from structuralcodes.sections._generic import GenericSection\n",
    "from structuralcodes.materials.constitutive_laws import Elastic, ElasticPlastic,ParabolaRectangle\n",
    "from structuralcodes.plots.section_plots import draw_section,draw_constitutive_law,draw_My_Mz_diagram,draw_section_response,draw_N_M_diagram\n",
    "import math\n",
    "import matplotlib.pyplot as plt\n",
    "import numpy as np\n",
    "from pprint import pprint\n"
   ]
  },
  {
   "cell_type": "markdown",
   "metadata": {},
   "source": [
    "1) reinforced_concrete atribute of CompoundGeometry class change when rotating or translating "
   ]
  },
  {
   "cell_type": "code",
   "execution_count": 24,
   "metadata": {},
   "outputs": [
    {
     "name": "stdout",
     "output_type": "stream",
     "text": [
      "Is reinforced concrete:  True\n",
      "Is reinforced concrete:  False\n"
     ]
    }
   ],
   "source": [
    "codes.set_design_code(design_code='ec2_2004')\n",
    "concrete = materials.concrete.create_concrete(fck=25)\n",
    "reinforcemnet = materials.reinforcement.create_reinforcement(\n",
    "    fyk=500,\n",
    "    Es=200000,\n",
    "    density=7850,\n",
    "    ftk=500,\n",
    "    epsuk=0.07,\n",
    ")\n",
    "poly = Polygon(((0, 0), (350, 0), (350, 500), (0, 500)))\n",
    "geo = SurfaceGeometry(poly, concrete)\n",
    "geo = add_reinforcement_line(\n",
    "    geo, (50, 450), (300, 450), 12, reinforcemnet, n=3\n",
    ")\n",
    "geo = add_reinforcement_line(geo, (50, 50), (300, 50), 20, reinforcemnet, n=6)\n",
    "sec = GenericSection(\n",
    "    geo,\n",
    ")\n",
    "# sec.geometry = sec.geometry.translate(-sec.gross_properties.cy, -sec.gross_properties.cz)\n",
    "print('Is reinforced concrete: ',sec.geometry.reinforced_concrete)\n",
    "sec.geometry = sec.geometry.rotate(0.2)\n",
    "#sec.geometry = sec.geometry.translate(-175, -250)\n",
    "print('Is reinforced concrete: ',sec.geometry.reinforced_concrete)"
   ]
  },
  {
   "cell_type": "markdown",
   "metadata": {},
   "source": [
    "2) Sign criteria of calculate_bending_strength results semms strange. Moments results follow global cordiante system but chi results folow rotated corditante system (theta). Is this a bug?"
   ]
  },
  {
   "cell_type": "code",
   "execution_count": 27,
   "metadata": {},
   "outputs": [
    {
     "name": "stdout",
     "output_type": "stream",
     "text": [
      "====== SECTION ======\n",
      "====== Theta = 0 ======\n",
      "UltimateBendingMomentResults(theta=0,\n",
      "                             n=-0.0029919976950623095,\n",
      "                             m_y=-562853427.1074414,\n",
      "                             m_z=4.4796883128622224e-08,\n",
      "                             chi_y=-3.909551620178221e-05,\n",
      "                             chi_z=0,\n",
      "                             eps_a=0.00627387905044555)\n",
      "====== Theta = pi ======\n",
      "UltimateBendingMomentResults(theta=3.141592653589793,\n",
      "                             n=-0.0029919963562861085,\n",
      "                             m_y=562853427.107441,\n",
      "                             m_z=-1.286277091120944e-07,\n",
      "                             chi_y=-3.909551620178221e-05,\n",
      "                             chi_z=0,\n",
      "                             eps_a=0.00627387905044555)\n"
     ]
    },
    {
     "data": {
      "image/png": "[encoded data removed]",
      "text/plain": [
       "<Figure size 400x400 with 1 Axes>"
      ]
     },
     "metadata": {},
     "output_type": "display_data"
    }
   ],
   "source": [
    "# Materials\n",
    "concrete = ConcreteEC2_2004(25)\n",
    "reinforcement = ReinforcementEC2_2023(fyk=500, Es=200000, density=7850, ftk=550, epsuk=0.07)\n",
    "\n",
    "# Create section\n",
    "poly = Polygon(((0, 0), (350, 0), (350, 500), (0, 500)))\n",
    "geo = SurfaceGeometry(poly, concrete)\n",
    "geo = add_reinforcement_line(geo, (50, 450), (300, 450), 20, reinforcement, n=10)\n",
    "geo = add_reinforcement_line(geo, (50, 50), (300, 50), 20, reinforcement, n=10)\n",
    "geo = geo.translate(-175,-250)\n",
    "sec = GenericSection(geo)\n",
    "\n",
    "# Draw & print\n",
    "print(\"====== SECTION ======\")\n",
    "print(\"====== Theta = 0 ======\")\n",
    "pprint(sec.section_calculator.calculate_bending_strength(theta=0))\n",
    "print(\"====== Theta = pi ======\")\n",
    "pprint(sec.section_calculator.calculate_bending_strength(theta=math.pi))\n",
    "draw_section(sec)"
   ]
  },
  {
   "cell_type": "markdown",
   "metadata": {},
   "source": [
    "12. When calculating the geometric properties EA, EI uses the tangent modulus at eps=0. With concrete it does not use Ecm. \n",
    "In order to homogenise a section it is now necessary to adapt Es =Ec,tang.\n",
    "Would be usefull to get section properties in homogenised section using Ecm. Instead of using E=constitutive_law.get_tangent(0)[0], a parameter of E could be entered for each material just for gross properties calculation. The default should be Ecm for concrete and constitutive_law.get_tangent(0)[0] for others.\n",
    "\n",
    "\n"
   ]
  },
  {
   "cell_type": "markdown",
   "metadata": {},
   "source": [
    "\n"
   ]
  },
  {
   "cell_type": "markdown",
   "metadata": {},
   "source": []
  },
  {
   "cell_type": "markdown",
   "metadata": {},
   "source": [
    "Should be SurfaceGeometry class inherited from Geometry class??"
   ]
  }
 ],
 "metadata": {
  "kernelspec": {
   "display_name": "venv",
   "language": "python",
   "name": "python3"
  },
  "language_info": {
   "codemirror_mode": {
    "name": "ipython",
    "version": 3
   },
   "file_extension": ".py",
   "mimetype": "text/x-python",
   "name": "python",
   "nbconvert_exporter": "python",
   "pygments_lexer": "ipython3",
   "version": "3.11.4"
  }
 },
 "nbformat": 4,
 "nbformat_minor": 2
}
