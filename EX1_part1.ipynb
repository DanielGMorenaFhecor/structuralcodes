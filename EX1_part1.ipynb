{
 "cells": [
  {
   "cell_type": "markdown",
   "metadata": {},
   "source": [
    "Instantaneous and delayed deflections on a concrete and composite beam - Obtaining camber of the beam\n",
    "\n",
    "A concrete beam with a span of L=6.75 m is considered, simply supported and subjected to the following uniformly distributed loads:\n",
    "\n",
    "- self weight: $q_{pp}$=12.2 kN/m\n",
    "- Dead load: $q_{cm}$=5.2 kN/m\n",
    "- Live load: $q_{sc}$=11.7 kN/m\n",
    "\n",
    "It is considered that 30% of the live load is quasi-permanent ($ψ_2$=0.3)\n",
    "\n",
    "![beam](EX1&2Beam.png)\n",
    "\n",
    "The section, 0.35 m wide and 0.50 m heigth, is reinforced with 6Φ20 on the lower face and 3Φ12 on the upper face. For calculation purposes, the cover is 5 cm. The concrete is class C25/30.\n",
    "\n",
    "The load history is as follows:\n",
    "- After 14 days, a load equal to the characteristic load is removed and acts on this element.\n",
    "- After a short time, 70% of the overload is removed, leaving the quasi-permanent charge that is supposed to be maintained indefinitely over time.\n",
    "\n",
    "As rheological parameters, φ(t,14)=2.5 and εc=0.4 mm/m can be adopted.\n",
    "\n",
    "It is requested:\n",
    "1. Determine the total deflection at infinite time due to the quasi-permanent load. To do this, the method of EN 1992-1-1 7.4.3 will be applied and a discretization of the span into 10 parts will be considered.\n",
    "2. Compare with the results if the equivalent stiffness of the center of the span is considered for the entire span."
   ]
  },
  {
   "cell_type": "code",
   "execution_count": 1,
   "metadata": {},
   "outputs": [],
   "source": [
    "from structuralcodes.codes.ec2_2004 import __materials__\n",
    "from structuralcodes.materials.concrete import ConcreteEC2_2004,ConcreteEC2_2023\n",
    "from structuralcodes.materials.reinforcement import ReinforcementEC2_2023, ReinforcementEC2_2004\n",
    "from shapely import Polygon\n",
    "from structuralcodes.geometry import SurfaceGeometry,CompoundGeometry\n",
    "from structuralcodes.sections._reinforcement import (\n",
    "    add_reinforcement,\n",
    "    add_reinforcement_line,\n",
    ")\n",
    "from structuralcodes.sections._generic import GenericSection\n",
    "from structuralcodes.materials.constitutive_laws import Elastic, ElasticPlastic,ParabolaRectangle,UserDefined\n",
    "from structuralcodes.plots.section_plots import draw_section\n",
    "import math\n",
    "import numpy as np"
   ]
  },
  {
   "cell_type": "code",
   "execution_count": 2,
   "metadata": {},
   "outputs": [],
   "source": [
    "long_beam = 6.75\n",
    "\n",
    "# caracteriscic load\n",
    "qk=12.2 + 5.2 + 11.7 # kN/m\n",
    "# cuasipermant load\n",
    "q_cuasip=12.2 + 5.2 + 11.7 * 0.3 # kN/m\n",
    "\n",
    "eps_cs = 0.4\n",
    "fi = 2.5"
   ]
  },
  {
   "cell_type": "markdown",
   "metadata": {},
   "source": [
    "Long-term mechanical properties of the uncracked section:"
   ]
  },
  {
   "cell_type": "code",
   "execution_count": 3,
   "metadata": {},
   "outputs": [
    {
     "name": "stdout",
     "output_type": "stream",
     "text": [
      "Ecm = 31476  MPa\n",
      "Ec_eff = 8993 MPa\n",
      "Ec = 16667 MPa\n",
      "Reinf. area = 495 cm2\n",
      "Sect. area = 1750 cm2\n",
      "I11_1 = 541390 cm4\n",
      "cz_1 = 28.06 cm\n"
     ]
    },
    {
     "data": {
      "image/png": "[encoded data removed]",
      "text/plain": [
       "<Figure size 400x400 with 1 Axes>"
      ]
     },
     "metadata": {},
     "output_type": "display_data"
    }
   ],
   "source": [
    "# Materials\n",
    "concrete = ConcreteEC2_2004(25)\n",
    "Ec_eff=concrete.Ecm/(1+fi) # DGM: cannot we implement this in a formula in the concrete or the Eurocode?\n",
    "Ec = concrete.constitutive_law.get_tangent(0)[0] # DGM: we should clarify the return type in the abstract class (all implementations return ArrayLike) # DGM: if scalar -> return scalar, if vector -> return vector\n",
    "print(f\"Ecm = {round(concrete.Ecm)}  MPa\")\n",
    "print(f\"Ec_eff = {round(Ec_eff)} MPa\")\n",
    "print(f\"Ec = {round(Ec)} MPa\")\n",
    "\n",
    "# The package does not compute the Inertia of homogeneus cross secction, so a \"concrete reinforcement\" with reinforcement areas multiplied by Es/Ec is used.\n",
    "reinforcemnet = ReinforcementEC2_2004(fyk=500, Es=Ec, density=7850, ftk=550, epsuk=0.07)   \n",
    "n=200000/Ec_eff\n",
    "\n",
    "# Create section\n",
    "poly = Polygon(((0, 0), (350, 0), (350, 500), (0, 500))) # DGM: here it would be useful to create a wrapper function for creating rectangular cross-sections\n",
    "geo = SurfaceGeometry(poly, concrete)\n",
    "geo = add_reinforcement_line(geo, (50, 50), (300, 50),12*math.sqrt(n), reinforcemnet, n=3) # DGM: why 12 * sqrt(2E5/Ec_eff)\n",
    "geo = add_reinforcement_line(geo, (50, 450), (300, 450), 20*math.sqrt(n) , reinforcemnet, n=6)\n",
    "sec = GenericSection(geo)\n",
    "gp = sec.gross_properties\n",
    "i11_1 = gp.i11\n",
    "cz_1=gp.cz\n",
    "print(f\"Reinf. area = {round(gp.area_reinforcement/(10**2))} cm2\")\n",
    "print(f\"Sect. area = {round(gp.area/(10**2))} cm2\")\n",
    "print(f\"I11_1 = {round(i11_1/(10**4))} cm4\") \n",
    "print(f\"cz_1 = {round(cz_1/(10),2)} cm\") \n",
    "\n",
    "\n",
    "draw_section(sec,\"gross 'homogeneus' section\",math.sqrt(n))"
   ]
  },
  {
   "cell_type": "code",
   "execution_count": 18,
   "metadata": {},
   "outputs": [
    {
     "name": "stdout",
     "output_type": "stream",
     "text": [
      "['mc2010', 'ec2_2004', 'ec2_2023']\n",
      "fck=25 MPa\n",
      "fcd=17 MPa\n",
      "Ecm=16667 MPa\n"
     ]
    }
   ],
   "source": [
    "# DGM: just for the sake of the example, I will show here how we can instantiate concrete classes setting a global design code\n",
    "import structuralcodes.codes as codes\n",
    "import structuralcodes.materials as materials\n",
    "\n",
    "print(codes.get_design_codes())\n",
    "codes.set_design_code(design_code='ec2_2004') \n",
    "# codes.set_design_code(design_code='ec2_2080') # DGM: it would be nice to raise error or print warning if the passed design code does not exist\n",
    "\n",
    "sample_concrete = materials.concrete.create_concrete(fck=25)\n",
    "print(f\"fck={sample_concrete.fck} MPa\")\n",
    "sample_fcd = sample_concrete.fcd()\n",
    "print(f\"fcd={round(sample_fcd)} MPa\")\n",
    "sample_Ecm = sample_concrete.constitutive_law.get_tangent(0)[0]\n",
    "print(f\"Ecm={round(sample_Ecm)} MPa\")"
   ]
  },
  {
   "cell_type": "markdown",
   "metadata": {},
   "source": [
    "Mechanical properties of the cracked section at long term:"
   ]
  },
  {
   "cell_type": "code",
   "execution_count": null,
   "metadata": {},
   "outputs": [
    {
     "name": "stdout",
     "output_type": "stream",
     "text": [
      "eps_z0 =  -2.19e-05\n",
      "x (mm) from z=0 =  219.4\n",
      "I11_2 = 367781 cm4\n",
      "cz_2 = 21.91 cm\n"
     ]
    },
    {
     "data": {
      "image/png": "[encoded data removed]",
      "text/plain": [
       "<Figure size 400x400 with 1 Axes>"
      ]
     },
     "metadata": {},
     "output_type": "display_data"
    }
   ],
   "source": [
    "# Get the cracked cross section\n",
    "curv = 1e-7 # Small curvature which produces 'elastic' stresses in the most compressed fibre of the concrete section.\n",
    "eps =  sec.section_calculator.find_equilibrium_fixed_curvature(sec.geometry,0,curv,0)[0]\n",
    "x=-eps/curv # Distance from the bottom to the neutral fibre\n",
    "print(\"eps_z0 = \",round(eps,7))\n",
    "print(\"x (mm) from z=0 = \",round(x,1))\n",
    "\n",
    "# 2) Create the cracked section (sec2)\n",
    "poly2 = Polygon(((0, x), (350, x), (350, 0), (0, 0)))\n",
    "geo2 = SurfaceGeometry(poly2, concrete)\n",
    "geo2 = add_reinforcement_line(geo2, (50, 50), (300, 50), 12*math.sqrt(n), reinforcemnet, n=3)\n",
    "geo2 = add_reinforcement_line(geo2, (50, 450), (300, 450), 20*math.sqrt(n) , reinforcemnet, n=6)\n",
    "sec2 = GenericSection(geo2)\n",
    "i11_2 = sec2.gross_properties.i11\n",
    "cz_2 = sec2.gross_properties.cz\n",
    "print(f\"I11_2 = {round(i11_2/(10**4))} cm4\") \n",
    "print(f\"cz_2 = {round(cz_2/(10),2)} cm\") \n",
    "draw_section(sec2,\"cracked section\",math.sqrt(n))\n",
    "\n"
   ]
  },
  {
   "cell_type": "markdown",
   "metadata": {},
   "source": [
    "Calculate the cracking moment:"
   ]
  },
  {
   "cell_type": "code",
   "execution_count": null,
   "execution_count": 5,
   "metadata": {},
   "outputs": [],
   "source": [
    "concrete = ConcreteEC2_2004(25)\n",
    "reinforcemnet = ReinforcementEC2_2004(fyk=500, Es=200000, density=7850, ftk=550, epsuk=0.07)   \n",
    "\n",
    "poly = Polygon(((0, 0), (350, 0), (350, 500), (0, 500)))\n",
    "geo = SurfaceGeometry(poly, concrete)\n",
    "geo = add_reinforcement_line(geo, (50, 50), (300, 50),12, reinforcemnet, n=3)\n",
    "geo = add_reinforcement_line(geo, (50, 450), (300, 450), 20, reinforcemnet, n=6)\n",
    "sec = GenericSection(geo)\n",
    "\n",
    "from SLS_section_response import calculate_cracking_moment\n",
    "# A concrete material failing at fctm is used for the cracking moment calculation.\n",
    "m_cracking,_ = calculate_cracking_moment(sec,plot=True) # DGM: in the near future, i would implement plotting functions in another method/module/package,.,....\n",
    "m_cracking = m_cracking/1e6 #mkN\n",
    "print('m_cracking (mkN) = ', round(m_cracking,2))\n",
    "print('fctm (MPa) = ',round(concrete.fctm,2))"
   ]
  },
  {
   "cell_type": "markdown",
   "metadata": {},
   "source": [
    "Checking deflections by calculation according to EN 1992 1-1 section 7.4.3\n",
    "\n",
    "Expresion 7.18:\n",
    "$$\\alpha = \\zeta\\alpha_{II} + (1-\\zeta)\\alpha_{I}$$\n",
    "$$(1/r) = \\zeta(1/r)_{II} + (1-\\zeta)(1/r)_{I}$$\n",
    "where  $(1/r)_{II}$ is the curvature of the fully cracked seciont and $(1/r)_{I}$ is the curvature of the uncracked section \n",
    "Expresion 7.19:\n",
    "$$\n",
    "\\zeta = 1 - \\beta(M_{cr}/M) ^2  \n",
    "$$\n",
    "where  $\\beta=0.5$ for sustained loads \n"
   ]
  },
  {
   "cell_type": "code",
   "execution_count": null,
   "metadata": {},
   "outputs": [],
   "source": [
    "# DGM: I guess that this should be a part of a further development (like a BeamElement/LineElement class) if so...\n",
    "\n",
    "def bending_momment_x_beam(q,L,n_sections=11): # n_sections -> number of sections in the beam\n",
    "    \"\"\"Return M for a simply supported beam under a uniform load q.\"\"\"\n",
    "    x = np.linspace(0,L,n_sections)\n",
    "    # Maximum deflection at the centre of the span. Only the first half of the sections are required\n",
    "    x = x[:math.ceil(n_sections/2)] \n",
    "    m_x=q*x/2*(L-x)\n",
    "    return x,m_x\n",
    "\n",
    "def compute_zeta_expresion_7_19(m_cracking,m_x): # DGM: is this an standard expression?\n",
    "    \"\"\"Expresion 7.19 EN 1992 1-1.\"\"\"\n",
    "    zeta = 1-0.5*(m_cracking/m_x)**2\n",
    "    zeta[m_x == 0] = 0\n",
    "    return zeta\n",
    "\n",
    "def compute_curvature(m_x,E,I):\n",
    "    \"\"\"Return the curvature in n sections given the moments in each section.\"\"\"\n",
    "    return m_x/(E*1000*I/1000**4)\n",
    "\n",
    "x_beam,m_x_characteristic = bending_momment_x_beam(qk,long_beam)\n",
    "x_beam,m_x_cuaisp = bending_momment_x_beam(q_cuasip,long_beam)\n",
    "\n",
    "zeta =compute_zeta_expresion_7_19(m_cracking,m_x_characteristic)\n",
    "curv_1 = compute_curvature(m_x_cuaisp,Ec_eff,i11_1)\n",
    "curv_2 = compute_curvature(m_x_cuaisp,Ec_eff,i11_2)\n",
    "\n",
    "# Expresion 7.18\n",
    "curv = zeta*curv_2 + (1-zeta)*curv_1\n",
    "\n",
    "# curvature integration\n",
    "deflection = np.trapz(curv*x_beam*1000,x_beam)\n",
    "\n",
    "\n",
    "print('Maximum deflection [mm] =', round(deflection,2))\n",
    "\n",
    "\n"
   ]
  },
  {
   "cell_type": "markdown",
   "metadata": {},
   "source": [
    "Shrinkage deflections :\n",
    "\n",
    "Expresion 7.21:  \n",
    "$\n",
    "1/r_{cs} = \\epsilon_{cs}\\alpha_e  S/I   \n",
    "$"
   ]
  },
  {
   "cell_type": "code",
   "execution_count": null,
   "metadata": {},
   "outputs": [],
   "source": [
    "a_fi20 = math.pi * 20**2/4 # DGM: wouldnt it be useful to obtain reinf. areas from the generic section?\n",
    "a_fi12 = math.pi * 12**2/4\n",
    "s_1 = (6*a_fi20 * (450-cz_1) + 3*a_fi12 * (50-cz_1))  # DGM: wouldnt it be useful to obtain S_1/S_2 from the generic section?\n",
    "s_2 = (6*a_fi20 * (450-cz_2) + 3*a_fi12 * (50-cz_2))\n",
    "s_= zeta*s_2 + (1-zeta)*s_1\n",
    "i_= zeta*i11_2 + (1-zeta)*i11_1\n",
    "print('S_I (mm3)= ',round(s_1))\n",
    "print('S_II (mm3)= ',round(s_2))\n",
    "#print(\"S = \",s_)\n",
    "print('I_I (mm4)= ',round(i11_1))\n",
    "print('I_II (mm4)= ',round(i11_2))\n",
    "#print(\"I = \",i_)\n",
    "curv_cs = eps_cs * n * s_/i_\n",
    "\n",
    "# curvature integration\n",
    "deflection_cs = np.trapz(curv_cs*x_beam*1000,x_beam)\n",
    "print('Shrinkage deflection [mm] =', round(deflection_cs,2))\n",
    "print('Total deflection [mm] =', round(deflection+deflection_cs,2))"
   ]
  },
  {
   "cell_type": "markdown",
   "metadata": {},
   "source": [
    "2. Compare with the results if the equivalent stiffness of the center of the span is considered for the entire span.\n",
    "\n",
    "$$\n",
    "f = 5/384  qL^4/EI\n",
    "$$"
   ]
  },
  {
   "cell_type": "code",
   "execution_count": null,
   "metadata": {},
   "outputs": [],
   "source": [
    "def_1 = 5/384*q_cuasip*long_beam**4 / (Ec_eff*1000) / (i11_1/1000**4) *1000\n",
    "def_2 = 5/384*q_cuasip*long_beam**4 / (Ec_eff*1000) / (i11_2/1000**4) *1000\n",
    "zeta_ = 1-0.5*(m_cracking/(qk*long_beam**2/8))**2\n",
    "def_ =  zeta_*def_2 + (1-zeta_)*def_1\n",
    "deflection_cs = eps_cs * n * s_[-1]/i_[-1] * long_beam**2 /8 *1000\n",
    "\n",
    "print ('zeta = ', round(zeta_,2))\n",
    "print()\n",
    "print ('CUSIPERMANTENT LOAD DEFLECTION:') \n",
    "print ('deflection I (mm) = ', round(def_1,2))\n",
    "print ('deflection II (mm) = ', round(def_2,2))\n",
    "print ('deflection cuasip (mm) = ', round(def_,2))\n",
    "print()\n",
    "print ('SHRINKAGE DEFLECTION:') \n",
    "print ('deflection_cs (mm) = ', round(deflection_cs,2))\n",
    "print()\n",
    "print ('TOTAL DEFLECTION:') \n",
    "print ('deflection (mm) = ', round(def_ + deflection_cs,2))"
   ]
  },
  {
   "cell_type": "markdown",
   "metadata": {},
   "source": [
    "\n"
   ]
  }
 ],
 "metadata": {
  "kernelspec": {
   "display_name": "venv",
   "language": "python",
   "name": "python3"
  },
  "language_info": {
   "codemirror_mode": {
    "name": "ipython",
    "version": 3
   },
   "file_extension": ".py",
   "mimetype": "text/x-python",
   "name": "python",
   "nbconvert_exporter": "python",
   "pygments_lexer": "ipython3",
   "version": "3.12.0"
  }
 },
 "nbformat": 4,
 "nbformat_minor": 2
}
