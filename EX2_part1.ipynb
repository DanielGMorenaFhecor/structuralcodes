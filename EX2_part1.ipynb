{
 "cells": [
  {
   "cell_type": "markdown",
   "metadata": {},
   "source": [
    "A concrete beam with a span of L=6.75 m is considered, simply supported and subjected to the following uniformly distributed loads:\n",
    "- Self weight: $q_{sw}$=12.2 kN/m\n",
    "- Dead load: $q_{dl}$=5.2 kN/m\n",
    "- Live load: $q_{ll}$=11.7 kN/m\n",
    "It is considered that 30% of the live load is quasi-permanent (ψ2=0.3)\n",
    "\n",
    "![beam](EX1&2Beam.png)\n",
    "\n",
    "The section, 0.35 m wide and 0.50 m height, is reinforced with 6φ20 on the lower face and 3φ12 on the upper face. For calculation purposes, the cover is 5 cm. The concrete is class C25/30. The structure is located 2 km from the coast in\n",
    "the open. A creep coefficient of 2.5 will be considered.\n",
    "\n",
    "It is requested:\n",
    "1. Determine the characteristic crack opening in the critical section.\n",
    "2. Evaluate the admissibility of the crack opening applying EN 1992-1-1."
   ]
  },
  {
   "cell_type": "code",
   "execution_count": 1,
   "metadata": {},
   "outputs": [],
   "source": [
    "from structuralcodes.codes.ec2_2004 import __materials__\n",
    "from structuralcodes.codes.ec2_2004 import _section_7_3_crack_control\n",
    "from structuralcodes.materials.concrete import ConcreteEC2_2004,ConcreteEC2_2023\n",
    "from structuralcodes.materials.reinforcement import ReinforcementEC2_2023, ReinforcementEC2_2004\n",
    "from shapely import Polygon\n",
    "from structuralcodes.geometry import SurfaceGeometry,CompoundGeometry\n",
    "from structuralcodes.sections._reinforcement import (\n",
    "    add_reinforcement,\n",
    "    add_reinforcement_line,\n",
    ")\n",
    "from structuralcodes.sections._generic import GenericSection\n",
    "from structuralcodes.materials.constitutive_laws import Elastic, ElasticPlastic,ParabolaRectangle,UserDefined\n",
    "from structuralcodes.plots.section_plots import draw_section\n",
    "import math"
   ]
  },
  {
   "cell_type": "markdown",
   "metadata": {},
   "source": [
    "Calculation of the inertia of the cracked cross-section in order to obtain $\\sigma_s$"
   ]
  },
  {
   "cell_type": "code",
   "execution_count": 2,
   "metadata": {},
   "outputs": [
    {
     "name": "stdout",
     "output_type": "stream",
     "text": [
      "x (mm) from z=0: 219.4\n",
      "I of cracked section (mm4):  3677810527\n"
     ]
    },
    {
     "data": {
      "image/png": "[encoded data removed]",
      "text/plain": [
       "<Figure size 400x400 with 1 Axes>"
      ]
     },
     "metadata": {},
     "output_type": "display_data"
    }
   ],
   "source": [
    "# Materials\n",
    "fi =2.5\n",
    "concrete = ConcreteEC2_2004(25)\n",
    "Ec_eff=concrete.Ecm/(1+fi)\n",
    "Ec = concrete.constitutive_law.get_tangent(0)[0]\n",
    "\n",
    "\n",
    "# The package does not compute the Inertia of homogeneus cross secction, so a \"concrete reinforfocement\" with reinforcement areas multiplied by Es/Ec is used.\n",
    "#reinforcemnet = ReinforcementEC2_2004(fyk=500, Es=200000, density=7850, ftk=550, epsuk=0.07)   \n",
    "reinforcemnet = ReinforcementEC2_2004(fyk=500, Es=Ec, density=7850, ftk=550, epsuk=0.07)\n",
    "n=200000/Ec_eff\n",
    "\n",
    "# Create section\n",
    "poly = Polygon(((0, 0), (350, 0), (350, 500), (0, 500)))\n",
    "geo = SurfaceGeometry(poly, concrete)\n",
    "geo = add_reinforcement_line(geo, (50, 50), (300, 50),12*math.sqrt(n), reinforcemnet, n=3)\n",
    "geo = add_reinforcement_line(geo, (50, 450), (300, 450), 20*math.sqrt(n) , reinforcemnet, n=6)\n",
    "sec = GenericSection(geo)\n",
    "\n",
    "# Get the neutral axe of the cracked section\n",
    "curv = 1e-7 # Curvature which produces elastic stresses in the most compressed fibre of the concrete section\n",
    "eps =  sec.section_calculator.find_equilibrium_fixed_curvature(sec.geometry,0,curv,0)[0]\n",
    "x=-eps/curv # Distance from z=0 to the neutral axe\n",
    "print(\"x (mm) from z=0:\",round(x,1))\n",
    "\n",
    "# 2) Create the cracked section\n",
    "poly2 = Polygon(((0, x), (350, x), (350, 0), (0, 0)))\n",
    "geo2 = SurfaceGeometry(poly2, concrete)\n",
    "geo2 = add_reinforcement_line(geo2, (50, 50), (300, 50),12*math.sqrt(n), reinforcemnet, n=3)\n",
    "geo2 = add_reinforcement_line(geo2, (50, 450), (300, 450), 20*math.sqrt(n) , reinforcemnet, n=6)\n",
    "sec2 = GenericSection(geo2)\n",
    "Icr = sec2.gross_properties.i11\n",
    "print(\"I of cracked section (mm4): \",round(Icr))\n",
    "draw_section(sec2,\"cracked section\",math.sqrt(n))\n"
   ]
  },
  {
   "cell_type": "markdown",
   "metadata": {},
   "source": [
    "Section 7.3.4. Calculation of crack widths\n",
    "\n",
    "1.) Calculation of $\\epsilon_{sm} - \\epsilon_{cm}$:"
   ]
  },
  {
   "cell_type": "code",
   "execution_count": 3,
   "metadata": {},
   "outputs": [
    {
     "name": "stdout",
     "output_type": "stream",
     "text": [
      "eps_sm_eps_cm = 0.00063\n",
      " alfa_e = 22.239\n",
      " hc_eff (mm) = 89\n",
      " rho_p = 0.0602\n",
      " kt = 0.4\n",
      " sigma_s (MPa) = 166\n",
      " fct_eff (MPa) = 2.56\n"
     ]
    }
   ],
   "source": [
    "long_beam = 6.75\n",
    "\n",
    "# caracteriscic load\n",
    "qk=12.2 + 5.2 + 11.7 # kN/m\n",
    "# cuasipermant load\n",
    "q_cuasip=12.2 + 5.2 + 11.7 * 0.3 # kN/m\n",
    "\n",
    "fi = 2.5\n",
    "\n",
    "# Mcuasip at midspan\n",
    "m_cuasip = q_cuasip * long_beam**2/8\n",
    "\n",
    "# Create section to get hc_eff\n",
    "concrete = ConcreteEC2_2004(25)\n",
    "reinforcemnet = ReinforcementEC2_2004(fyk=500, Es=200000, density=7850, ftk=550, epsuk=0.07)  \n",
    "poly = Polygon(((0, 0), (350, 0), (350, 500), (0, 500)))\n",
    "geo = SurfaceGeometry(poly, concrete)\n",
    "geo = add_reinforcement_line(geo, (50, 50), (300, 50),12, reinforcemnet, n=3)\n",
    "geo = add_reinforcement_line(geo, (50, 450), (300, 450), 20, reinforcemnet, n=6)\n",
    "sec = GenericSection(geo)\n",
    "hc_eff = _section_7_3_crack_control.hc_eff(500,450,500-sec.gross_properties.cz)\n",
    "\n",
    "Ec_eff = concrete.Ecm/(1+fi)\n",
    "alfa_e = _section_7_3_crack_control.alpha_e(200000,Ec_eff)\n",
    "rho_p = _section_7_3_crack_control.rho_p_eff(6* math.pi*100, 0 ,0,hc_eff*350)  # b=350mm, fi=20mm\n",
    "kt = _section_7_3_crack_control.kt('long')\n",
    "fct_eff = concrete.fctm\n",
    "sigma_s = (n * m_cuasip / (Icr/1000**4) * (450-x)/1000) / 1000 # MPa\n",
    "eps_sm_eps_cm =_section_7_3_crack_control.eps_sm_eps_cm(sigma_s,alfa_e,rho_p,kt,fct_eff,200000)\n",
    "print('eps_sm_eps_cm =',round(eps_sm_eps_cm, 5))\n",
    "print(' alfa_e =',round(alfa_e,3))\n",
    "print(' hc_eff (mm) =',round(hc_eff))\n",
    "print(' rho_p =',round(rho_p,5))\n",
    "print(' kt =',kt)\n",
    "print(' sigma_s (MPa) =',round(sigma_s))\n",
    "print(' fct_eff (MPa) =',round(fct_eff,2))\n",
    "\n"
   ]
  },
  {
   "cell_type": "markdown",
   "metadata": {},
   "source": [
    "2.) Crack spacing $S_{r,max}$:"
   ]
  },
  {
   "cell_type": "code",
   "execution_count": 4,
   "metadata": {},
   "outputs": [
    {
     "name": "stdout",
     "output_type": "stream",
     "text": [
      "sr_max (mm) 192\n",
      " c (mm) 40.0\n",
      " fi (mm) 20\n",
      " k1 0.8\n",
      " k2 0.5\n",
      " k3 3.4\n",
      " k4 0.425\n"
     ]
    }
   ],
   "source": [
    "# crack spacing\n",
    "k1 =_section_7_3_crack_control.k1(bond_type='bond')\n",
    "k2 =_section_7_3_crack_control.k2(0)\n",
    "k3 =_section_7_3_crack_control.k3()\n",
    "k4 =_section_7_3_crack_control.k4()\n",
    "c=50-20/2\n",
    "fi_rebars=20\n",
    "sr_max = _section_7_3_crack_control.sr_max_close(c,fi_rebars,rho_p,k1,k2,k3,k4)\n",
    "print('sr_max (mm)',round(sr_max))\n",
    "print(' c (mm)',c)\n",
    "print(' fi (mm)',fi_rebars)\n",
    "print(' k1',k1)\n",
    "print(' k2',k2)\n",
    "print(' k3',k3)\n",
    "print(' k4',k4)\n",
    "\n"
   ]
  },
  {
   "cell_type": "markdown",
   "metadata": {},
   "source": [
    "3) Crack width $w_k$"
   ]
  },
  {
   "cell_type": "code",
   "execution_count": 5,
   "metadata": {},
   "outputs": [
    {
     "name": "stdout",
     "output_type": "stream",
     "text": [
      "wk (mm) 0.12\n",
      "wmax (mm) 0.3\n"
     ]
    }
   ],
   "source": [
    "wk = _section_7_3_crack_control.wk(sr_max,eps_sm_eps_cm)\n",
    "print('wk (mm)',round(wk,2))\n",
    "wmax = _section_7_3_crack_control.w_max('XS1','qp')\n",
    "print('wmax (mm)',wmax)"
   ]
  }
 ],
 "metadata": {
  "kernelspec": {
   "display_name": "venv",
   "language": "python",
   "name": "python3"
  },
  "language_info": {
   "codemirror_mode": {
    "name": "ipython",
    "version": 3
   },
   "file_extension": ".py",
   "mimetype": "text/x-python",
   "name": "python",
   "nbconvert_exporter": "python",
   "pygments_lexer": "ipython3",
   "version": "3.11.4"
  }
 },
 "nbformat": 4,
 "nbformat_minor": 2
}
